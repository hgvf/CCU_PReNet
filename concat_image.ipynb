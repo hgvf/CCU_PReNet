{
 "cells": [
  {
   "cell_type": "code",
   "execution_count": 3,
   "metadata": {},
   "outputs": [],
   "source": [
    "import numpy as np\n",
    "import cv2\n",
    "import os"
   ]
  },
  {
   "cell_type": "code",
   "execution_count": 32,
   "metadata": {},
   "outputs": [],
   "source": [
    "# TODO: 把他設定成可以有無限參數，然後其他一起修改\n",
    "def concat_image(*image):\n",
    "    para_len = len(image)\n",
    "    imgs = []\n",
    "    imgs_R = []\n",
    "    imgs_G = []\n",
    "    imgs_B = []\n",
    "\n",
    "    # 先將引數的 image 存進別的陣列\n",
    "    for i in range(para_len):\n",
    "        imgs.append(image[i])\n",
    "\n",
    "    # 分別儲存每張圖片的 RGB 陣列\n",
    "    for i in range(para_len):\n",
    "        r, g, b = cv2.split(imgs[i])\n",
    "        \n",
    "        imgs_R.append(r)\n",
    "        imgs_G.append(g)\n",
    "        imgs_B.append(b)\n",
    "    \n",
    "    # 圖片大小\n",
    "    x, y = imgs_R[0].shape\n",
    "\n",
    "    new_R = np.zeros((x, y), dtype=float)\n",
    "    new_G = np.zeros((x, y), dtype=float)\n",
    "    new_B = np.zeros((x, y), dtype=float)\n",
    "    \n",
    "    # 取所有 images 的平均值作融合\n",
    "    for j in range(x):\n",
    "        for k in range(y):\n",
    "            tmpR = 0\n",
    "            tmpG = 0\n",
    "            tmpB = 0\n",
    "            \n",
    "            for i in range(para_len):\n",
    "                tmpR += imgs_R[i][j][k]\n",
    "                tmpG += imgs_G[i][j][k]\n",
    "                tmpB += imgs_B[i][j][k]\n",
    "            \n",
    "            new_R[j][k] = tmpR / float(para_len)\n",
    "            new_G[j][k] = tmpG / float(para_len)\n",
    "            new_B[j][k] = tmpB / float(para_len)\n",
    "\n",
    "    new_image = cv2.merge((new_R, new_G, new_B))\n",
    "\n",
    "    cv2.imwrite('output.jpg',new_image)"
   ]
  },
  {
   "cell_type": "code",
   "execution_count": 33,
   "metadata": {},
   "outputs": [],
   "source": [
    "path = '/Users/weiwei880411/Desktop/Project/datasets/train/realshort.mp4'\n",
    "img1 = cv2.imread(path + '/image0.jpg')\n",
    "img2 = cv2.imread(path + '/image1.jpg')\n",
    "\n",
    "concat_image(img1, img2)"
   ]
  },
  {
   "cell_type": "code",
   "execution_count": null,
   "metadata": {},
   "outputs": [],
   "source": []
  }
 ],
 "metadata": {
  "kernelspec": {
   "display_name": "Python 3",
   "language": "python",
   "name": "python3"
  },
  "language_info": {
   "codemirror_mode": {
    "name": "ipython",
    "version": 3
   },
   "file_extension": ".py",
   "mimetype": "text/x-python",
   "name": "python",
   "nbconvert_exporter": "python",
   "pygments_lexer": "ipython3",
   "version": "3.7.7"
  }
 },
 "nbformat": 4,
 "nbformat_minor": 4
}
