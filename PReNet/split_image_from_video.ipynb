{
 "cells": [
  {
   "cell_type": "code",
   "execution_count": 30,
   "metadata": {},
   "outputs": [],
   "source": [
    "import cv2\n",
    "import os"
   ]
  },
  {
   "cell_type": "code",
   "execution_count": 31,
   "metadata": {},
   "outputs": [],
   "source": [
    "def get_images_from_video():\n",
    "    \n",
    "    videos = []\n",
    "    \n",
    "    # 先蒐集所有 datasets 檔名\n",
    "    path = '/Users/weiwei880411/Desktop/Project/datasets/videos'\n",
    "    files = listdir(path)\n",
    "    \n",
    "    for f in files:\n",
    "        if f =='.DS_Store':\n",
    "            continue\n",
    "            \n",
    "        videos.append(f)\n",
    "    \n",
    "    # 開始將每個影片分割 frames\n",
    "    for i in range(len(videos)):\n",
    "        video_images = []\n",
    "        file_path = path + '/' + videos[i]\n",
    "        vc = cv2.VideoCapture(file_path)\n",
    "\n",
    "        # 判斷是否開啟影片成功\n",
    "        if vc.isOpened():\n",
    "            rval, video_frame = vc.read()\n",
    "        else:\n",
    "            rval = False\n",
    "\n",
    "        # 擷取整部影片\n",
    "        while rval:\n",
    "            rval, video_frame = vc.read()\n",
    "\n",
    "            # 擷取 image\n",
    "            video_images.append(video_frame)\n",
    "\n",
    "        vc.release()\n",
    "\n",
    "        # 設定存取路徑，以及新增資料夾\n",
    "        save_path = '/Users/weiwei880411/Desktop/Project/datasets/train/' + videos[i]\n",
    "        \n",
    "        if not os.path.exists(save_path):\n",
    "            os.mkdir(save_path)\n",
    "            \n",
    "        for j in range(len(video_images)-1):\n",
    "            fileName = 'image' + str(j) + '.jpg'\n",
    "            cv2.imwrite(save_path + '/' + fileName, video_images[j])\n",
    "            \n",
    "        print('%s is done...' %videos[i])"
   ]
  },
  {
   "cell_type": "code",
   "execution_count": 32,
   "metadata": {},
   "outputs": [
    {
     "name": "stdout",
     "output_type": "stream",
     "text": [
      "realshort.mp4 is done...\n"
     ]
    }
   ],
   "source": [
    "get_images_from_video()"
   ]
  },
  {
   "cell_type": "code",
   "execution_count": 21,
   "metadata": {},
   "outputs": [
    {
     "name": "stdout",
     "output_type": "stream",
     "text": [
      "n\n"
     ]
    }
   ],
   "source": []
  },
  {
   "cell_type": "code",
   "execution_count": null,
   "metadata": {},
   "outputs": [],
   "source": []
  }
 ],
 "metadata": {
  "kernelspec": {
   "display_name": "Python 3",
   "language": "python",
   "name": "python3"
  },
  "language_info": {
   "codemirror_mode": {
    "name": "ipython",
    "version": 3
   },
   "file_extension": ".py",
   "mimetype": "text/x-python",
   "name": "python",
   "nbconvert_exporter": "python",
   "pygments_lexer": "ipython3",
   "version": "3.7.7"
  }
 },
 "nbformat": 4,
 "nbformat_minor": 4
}
